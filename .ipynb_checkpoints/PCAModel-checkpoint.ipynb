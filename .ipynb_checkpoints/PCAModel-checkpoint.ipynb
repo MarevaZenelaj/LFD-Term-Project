{
 "cells": [
  {
   "cell_type": "code",
   "execution_count": 23,
   "metadata": {},
   "outputs": [],
   "source": [
    "import pandas as pd\n",
    "\n",
    "from sklearn.preprocessing import StandardScaler\n",
    "from sklearn.decomposition import PCA\n",
    "\n",
    "from keras.utils import np_utils\n",
    "from keras.layers import Dense, Dropout, GaussianNoise, Conv1D\n",
    "from keras.preprocessing.image import ImageDataGenerator\n",
    "\n",
    "import matplotlib.pyplot as plt\n",
    "import seaborn as sns\n",
    "%matplotlib inline"
   ]
  },
  {
   "cell_type": "code",
   "execution_count": 24,
   "metadata": {},
   "outputs": [
    {
     "name": "stdout",
     "output_type": "stream",
     "text": [
      "train data:  (120, 595)\n"
     ]
    }
   ],
   "source": [
    "import numpy as np\n",
    "import keras\n",
    "import tensorflow as tf\n",
    "import csv\n",
    "from keras import Model, Sequential\n",
    "from keras.layers import Dense, Dropout\n",
    "from keras import regularizers\n",
    "import itertools\n",
    "from itertools import combinations\n",
    "from matplotlib import pyplot as plt\n",
    "\n",
    "def read_csv_file(filename):\n",
    "    dataset = []\n",
    "    with open(filename, \"r\") as f:\n",
    "        data = csv.reader(f, delimiter='\\n')\n",
    "        header = next(data)\n",
    "        numberColumns = len(header)\n",
    "        counter = 0\n",
    "        for row in data:\n",
    "            columns = list(row[0].split(','))\n",
    "            newcolumns = []\n",
    "            for number in columns:\n",
    "                newcolumns.append(float(number))\n",
    "\n",
    "            dataset.append(newcolumns)\n",
    "            counter += 1\n",
    "\n",
    "    dataset = np.asarray(dataset)\n",
    "    return dataset\n",
    "\n",
    "train = read_csv_file(\"train.csv\")\n",
    "labels = train[:,-1].astype(int)\n",
    "train = train[:,:-1]\n",
    "test = read_csv_file('test.csv')\n",
    "# labels = keras.utils.to_categorical(labels, 2)\n",
    "print(\"train data: \", train.shape)\n",
    "# print(\"test data: \", test.shape)\n",
    "\n"
   ]
  },
  {
   "cell_type": "code",
   "execution_count": 25,
   "metadata": {},
   "outputs": [],
   "source": [
    "from keras.utils import np_utils\n",
    "labels = np_utils.to_categorical(labels)"
   ]
  },
  {
   "cell_type": "code",
   "execution_count": 26,
   "metadata": {},
   "outputs": [
    {
     "data": {
      "text/plain": [
       "'from sklearn.feature_selection import SelectKBest\\nfrom sklearn.feature_selection import chi2\\n# load data\\n# feature extraction\\nselection = SelectKBest(score_func=chi2, k=32)\\nfit = selection.fit(train, labels)\\n# summarize scores\\nnp.set_printoptions(precision=3)\\nfeatures = fit.transform(train)\\ntrain = features'"
      ]
     },
     "execution_count": 26,
     "metadata": {},
     "output_type": "execute_result"
    }
   ],
   "source": [
    "'''from sklearn.feature_selection import SelectKBest\n",
    "from sklearn.feature_selection import chi2\n",
    "# load data\n",
    "# feature extraction\n",
    "selection = SelectKBest(score_func=chi2, k=32)\n",
    "fit = selection.fit(train, labels)\n",
    "# summarize scores\n",
    "np.set_printoptions(precision=3)\n",
    "features = fit.transform(train)\n",
    "train = features'''"
   ]
  },
  {
   "cell_type": "code",
   "execution_count": null,
   "metadata": {},
   "outputs": [],
   "source": []
  },
  {
   "cell_type": "code",
   "execution_count": 27,
   "metadata": {},
   "outputs": [],
   "source": [
    "scaler = StandardScaler()\n",
    "scaler.fit(train)\n",
    "X_sc_train = scaler.transform(train)\n",
    "X_sc_test = scaler.transform(test)"
   ]
  },
  {
   "cell_type": "code",
   "execution_count": null,
   "metadata": {},
   "outputs": [],
   "source": []
  },
  {
   "cell_type": "code",
   "execution_count": 28,
   "metadata": {},
   "outputs": [
    {
     "data": {
      "text/plain": [
       "Text(0, 0.5, 'Cumulative explained variance')"
      ]
     },
     "execution_count": 28,
     "metadata": {},
     "output_type": "execute_result"
    },
    {
     "data": {
      "image/png": "[encoded data removed]",
      "text/plain": [
       "<Figure size 432x288 with 1 Axes>"
      ]
     },
     "metadata": {
      "needs_background": "light"
     },
     "output_type": "display_data"
    }
   ],
   "source": [
    "pca = PCA(n_components=120)\n",
    "pca.fit(train)\n",
    "\n",
    "plt.plot(np.cumsum(pca.explained_variance_ratio_))\n",
    "plt.xlabel('Number of components')\n",
    "plt.ylabel('Cumulative explained variance')"
   ]
  },
  {
   "cell_type": "code",
   "execution_count": 29,
   "metadata": {},
   "outputs": [
    {
     "name": "stdout",
     "output_type": "stream",
     "text": [
      "(120, 595)\n",
      "(120, 60)\n"
     ]
    }
   ],
   "source": [
    "NCOMPONENTS = 60\n",
    "\n",
    "pca = PCA(n_components=NCOMPONENTS)\n",
    "X_pca_train = pca.fit_transform(X_sc_train)\n",
    "X_pca_test = pca.transform(X_sc_test)\n",
    "pca_std = np.std(X_pca_train)\n",
    "\n",
    "print(X_sc_train.shape)\n",
    "print(X_pca_train.shape)"
   ]
  },
  {
   "cell_type": "code",
   "execution_count": 31,
   "metadata": {},
   "outputs": [
    {
     "data": {
      "text/plain": [
       "(120, 2)"
      ]
     },
     "execution_count": 31,
     "metadata": {},
     "output_type": "execute_result"
    }
   ],
   "source": []
  },
  {
   "cell_type": "code",
   "execution_count": 38,
   "metadata": {},
   "outputs": [
    {
     "name": "stdout",
     "output_type": "stream",
     "text": [
      "Train on 102 samples, validate on 18 samples\n",
      "Epoch 1/36\n",
      "102/102 [==============================] - 1s 6ms/step - loss: 3.5097 - categorical_accuracy: 0.4804 - val_loss: 0.7159 - val_categorical_accuracy: 0.5556\n",
      "Epoch 2/36\n",
      "102/102 [==============================] - 0s 72us/step - loss: 3.4280 - categorical_accuracy: 0.5098 - val_loss: 0.7188 - val_categorical_accuracy: 0.5556\n",
      "Epoch 3/36\n",
      "102/102 [==============================] - 0s 68us/step - loss: 3.2516 - categorical_accuracy: 0.4412 - val_loss: 0.7296 - val_categorical_accuracy: 0.5000\n",
      "Epoch 4/36\n",
      "102/102 [==============================] - 0s 67us/step - loss: 3.7364 - categorical_accuracy: 0.4706 - val_loss: 0.7469 - val_categorical_accuracy: 0.5000\n",
      "Epoch 5/36\n",
      "102/102 [==============================] - 0s 78us/step - loss: 3.0996 - categorical_accuracy: 0.4608 - val_loss: 0.7541 - val_categorical_accuracy: 0.5000\n",
      "Epoch 6/36\n",
      "102/102 [==============================] - 0s 88us/step - loss: 3.2315 - categorical_accuracy: 0.5588 - val_loss: 0.7575 - val_categorical_accuracy: 0.5000\n",
      "Epoch 7/36\n",
      "102/102 [==============================] - 0s 95us/step - loss: 2.4977 - categorical_accuracy: 0.5588 - val_loss: 0.7764 - val_categorical_accuracy: 0.5000\n",
      "Epoch 8/36\n",
      "102/102 [==============================] - 0s 65us/step - loss: 3.3429 - categorical_accuracy: 0.5294 - val_loss: 0.7973 - val_categorical_accuracy: 0.5000\n",
      "Epoch 9/36\n",
      "102/102 [==============================] - 0s 69us/step - loss: 3.2525 - categorical_accuracy: 0.5098 - val_loss: 0.8181 - val_categorical_accuracy: 0.5000\n",
      "Epoch 10/36\n",
      "102/102 [==============================] - 0s 55us/step - loss: 2.4923 - categorical_accuracy: 0.6275 - val_loss: 0.8427 - val_categorical_accuracy: 0.5000\n",
      "Epoch 11/36\n",
      "102/102 [==============================] - 0s 65us/step - loss: 3.0898 - categorical_accuracy: 0.5196 - val_loss: 0.8480 - val_categorical_accuracy: 0.5000\n",
      "Epoch 12/36\n",
      "102/102 [==============================] - 0s 62us/step - loss: 2.6373 - categorical_accuracy: 0.5000 - val_loss: 0.8465 - val_categorical_accuracy: 0.5000\n",
      "Epoch 13/36\n",
      "102/102 [==============================] - 0s 69us/step - loss: 2.8483 - categorical_accuracy: 0.4608 - val_loss: 0.8375 - val_categorical_accuracy: 0.5000\n",
      "Epoch 14/36\n",
      "102/102 [==============================] - 0s 75us/step - loss: 3.3861 - categorical_accuracy: 0.4412 - val_loss: 0.8162 - val_categorical_accuracy: 0.5000\n",
      "Epoch 15/36\n",
      "102/102 [==============================] - 0s 62us/step - loss: 2.2452 - categorical_accuracy: 0.5588 - val_loss: 0.8040 - val_categorical_accuracy: 0.5000\n",
      "Epoch 16/36\n",
      "102/102 [==============================] - 0s 67us/step - loss: 2.8815 - categorical_accuracy: 0.4510 - val_loss: 0.8051 - val_categorical_accuracy: 0.5556\n",
      "Epoch 17/36\n",
      "102/102 [==============================] - 0s 57us/step - loss: 2.7805 - categorical_accuracy: 0.4412 - val_loss: 0.8049 - val_categorical_accuracy: 0.5556\n",
      "Epoch 18/36\n",
      "102/102 [==============================] - 0s 73us/step - loss: 2.3632 - categorical_accuracy: 0.5588 - val_loss: 0.8038 - val_categorical_accuracy: 0.5000\n",
      "Epoch 19/36\n",
      "102/102 [==============================] - 0s 59us/step - loss: 3.2406 - categorical_accuracy: 0.4706 - val_loss: 0.8067 - val_categorical_accuracy: 0.5000\n",
      "Epoch 20/36\n",
      "102/102 [==============================] - 0s 88us/step - loss: 2.7813 - categorical_accuracy: 0.5196 - val_loss: 0.8106 - val_categorical_accuracy: 0.5000\n",
      "Epoch 21/36\n",
      "102/102 [==============================] - 0s 79us/step - loss: 2.5016 - categorical_accuracy: 0.5686 - val_loss: 0.8118 - val_categorical_accuracy: 0.5000\n",
      "Epoch 22/36\n",
      "102/102 [==============================] - 0s 66us/step - loss: 2.4798 - categorical_accuracy: 0.5490 - val_loss: 0.8065 - val_categorical_accuracy: 0.4444\n",
      "Epoch 23/36\n",
      "102/102 [==============================] - 0s 59us/step - loss: 2.4054 - categorical_accuracy: 0.5490 - val_loss: 0.8119 - val_categorical_accuracy: 0.4444\n",
      "Epoch 24/36\n",
      "102/102 [==============================] - 0s 69us/step - loss: 2.9531 - categorical_accuracy: 0.4902 - val_loss: 0.8293 - val_categorical_accuracy: 0.5000\n",
      "Epoch 25/36\n",
      "102/102 [==============================] - 0s 63us/step - loss: 2.3303 - categorical_accuracy: 0.5490 - val_loss: 0.8567 - val_categorical_accuracy: 0.5000\n",
      "Epoch 26/36\n",
      "102/102 [==============================] - 0s 59us/step - loss: 2.4130 - categorical_accuracy: 0.5294 - val_loss: 0.8767 - val_categorical_accuracy: 0.5000\n",
      "Epoch 27/36\n",
      "102/102 [==============================] - 0s 70us/step - loss: 2.6171 - categorical_accuracy: 0.5490 - val_loss: 0.8859 - val_categorical_accuracy: 0.5556\n",
      "Epoch 28/36\n",
      "102/102 [==============================] - 0s 72us/step - loss: 2.4679 - categorical_accuracy: 0.5882 - val_loss: 0.8823 - val_categorical_accuracy: 0.5556\n",
      "Epoch 29/36\n",
      "102/102 [==============================] - 0s 66us/step - loss: 2.2200 - categorical_accuracy: 0.5392 - val_loss: 0.8771 - val_categorical_accuracy: 0.5000\n",
      "Epoch 30/36\n",
      "102/102 [==============================] - 0s 62us/step - loss: 2.3562 - categorical_accuracy: 0.5980 - val_loss: 0.8650 - val_categorical_accuracy: 0.5000\n",
      "Epoch 31/36\n",
      "102/102 [==============================] - 0s 78us/step - loss: 2.4913 - categorical_accuracy: 0.5686 - val_loss: 0.8624 - val_categorical_accuracy: 0.5000\n",
      "Epoch 32/36\n",
      "102/102 [==============================] - 0s 61us/step - loss: 2.5020 - categorical_accuracy: 0.5686 - val_loss: 0.8535 - val_categorical_accuracy: 0.5000\n",
      "Epoch 33/36\n",
      "102/102 [==============================] - 0s 66us/step - loss: 2.0308 - categorical_accuracy: 0.5294 - val_loss: 0.8375 - val_categorical_accuracy: 0.5556\n",
      "Epoch 34/36\n",
      "102/102 [==============================] - 0s 66us/step - loss: 2.4195 - categorical_accuracy: 0.5490 - val_loss: 0.8221 - val_categorical_accuracy: 0.5000\n",
      "Epoch 35/36\n",
      "102/102 [==============================] - 0s 72us/step - loss: 2.1349 - categorical_accuracy: 0.5392 - val_loss: 0.8158 - val_categorical_accuracy: 0.5556\n",
      "Epoch 36/36\n",
      "102/102 [==============================] - 0s 62us/step - loss: 2.2191 - categorical_accuracy: 0.5784 - val_loss: 0.8191 - val_categorical_accuracy: 0.5556\n"
     ]
    },
    {
     "data": {
      "text/plain": [
       "<keras.callbacks.History at 0x7f303d1c0fd0>"
      ]
     },
     "execution_count": 38,
     "metadata": {},
     "output_type": "execute_result"
    }
   ],
   "source": [
    "model = Sequential()\n",
    "layers = 2\n",
    "units = 128\n",
    "\n",
    "model.add(Dense(units, input_dim=NCOMPONENTS, activation='relu'))\n",
    "model.add(GaussianNoise(pca_std))\n",
    "for i in range(layers):\n",
    "    model.add(Dense(units, activation='relu'))\n",
    "    model.add(GaussianNoise(pca_std))\n",
    "    model.add(Dropout(0.1))\n",
    "model.add(Dense(2, activation='softmax'))\n",
    "\n",
    "model.compile(loss='categorical_crossentropy', optimizer='adam', metrics=['categorical_accuracy'])\n",
    "\n",
    "model.fit(X_pca_train, labels, epochs=36, batch_size=64, validation_split=0.15, verbose=1)\n",
    "\n"
   ]
  },
  {
   "cell_type": "code",
   "execution_count": null,
   "metadata": {},
   "outputs": [],
   "source": []
  },
  {
   "cell_type": "code",
   "execution_count": 39,
   "metadata": {},
   "outputs": [],
   "source": [
    "predictions = model.predict_classes(X_pca_test, verbose=0)"
   ]
  },
  {
   "cell_type": "code",
   "execution_count": 40,
   "metadata": {},
   "outputs": [
    {
     "data": {
      "text/plain": [
       "array([1, 0, 0, 0, 0])"
      ]
     },
     "execution_count": 40,
     "metadata": {},
     "output_type": "execute_result"
    }
   ],
   "source": [
    "predictions[:5]"
   ]
  },
  {
   "cell_type": "code",
   "execution_count": 42,
   "metadata": {},
   "outputs": [],
   "source": [
    "with open(\"submission6.csv\", 'w') as f:\n",
    "    f.write(\"ID,Predicted\\n\")\n",
    "    for i in range(len(predictions)):\n",
    "        writestr = str(i+1) + ','+ str(prections[i]) + '\\n'\n",
    "        f.write(writestr)\n",
    "f.close()\n",
    "            \n",
    "        "
   ]
  },
  {
   "cell_type": "code",
   "execution_count": null,
   "metadata": {},
   "outputs": [],
   "source": []
  }
 ],
 "metadata": {
  "kernelspec": {
   "display_name": "Python 3",
   "language": "python",
   "name": "python3"
  },
  "language_info": {
   "codemirror_mode": {
    "name": "ipython",
    "version": 3
   },
   "file_extension": ".py",
   "mimetype": "text/x-python",
   "name": "python",
   "nbconvert_exporter": "python",
   "pygments_lexer": "ipython3",
   "version": "3.6.7"
  }
 },
 "nbformat": 4,
 "nbformat_minor": 2
}
