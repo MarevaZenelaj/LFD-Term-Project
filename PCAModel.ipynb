{
 "cells": [
  {
   "cell_type": "code",
   "execution_count": 1,
   "metadata": {},
   "outputs": [
    {
     "name": "stderr",
     "output_type": "stream",
     "text": [
      "Using TensorFlow backend.\n"
     ]
    }
   ],
   "source": [
    "import pandas as pd\n",
    "\n",
    "from sklearn.preprocessing import StandardScaler\n",
    "from sklearn.decomposition import PCA\n",
    "\n",
    "from keras.utils import np_utils\n",
    "from keras.layers import Dense, Dropout, GaussianNoise, Conv1D\n",
    "from keras.preprocessing.image import ImageDataGenerator\n",
    "\n",
    "import matplotlib.pyplot as plt\n",
    "import seaborn as sns\n",
    "%matplotlib inline"
   ]
  },
  {
   "cell_type": "code",
   "execution_count": 2,
   "metadata": {},
   "outputs": [
    {
     "name": "stdout",
     "output_type": "stream",
     "text": [
      "train data:  (120, 595)\n"
     ]
    }
   ],
   "source": [
    "import numpy as np\n",
    "import keras\n",
    "import tensorflow as tf\n",
    "import csv\n",
    "from keras import Model, Sequential\n",
    "from keras.layers import Dense, Dropout\n",
    "from keras import regularizers\n",
    "import itertools\n",
    "from itertools import combinations\n",
    "from matplotlib import pyplot as plt\n",
    "\n",
    "def read_csv_file(filename):\n",
    "    dataset = []\n",
    "    with open(filename, \"r\") as f:\n",
    "        data = csv.reader(f, delimiter='\\n')\n",
    "        header = next(data)\n",
    "        numberColumns = len(header)\n",
    "        counter = 0\n",
    "        for row in data:\n",
    "            columns = list(row[0].split(','))\n",
    "            newcolumns = []\n",
    "            for number in columns:\n",
    "                newcolumns.append(float(number))\n",
    "\n",
    "            dataset.append(newcolumns)\n",
    "            counter += 1\n",
    "\n",
    "    dataset = np.asarray(dataset)\n",
    "    return dataset\n",
    "\n",
    "train = read_csv_file(\"train.csv\")\n",
    "labels = train[:,-1].astype(int)\n",
    "train = train[:,:-1]\n",
    "test = read_csv_file('test.csv')\n",
    "# labels = keras.utils.to_categorical(labels, 2)\n",
    "print(\"train data: \", train.shape)\n",
    "# print(\"test data: \", test.shape)\n",
    "\n"
   ]
  },
  {
   "cell_type": "code",
   "execution_count": 3,
   "metadata": {},
   "outputs": [],
   "source": [
    "from keras.utils import np_utils\n",
    "labels = np_utils.to_categorical(labels)"
   ]
  },
  {
   "cell_type": "code",
   "execution_count": 4,
   "metadata": {},
   "outputs": [
    {
     "data": {
      "text/plain": [
       "'from sklearn.feature_selection import SelectKBest\\nfrom sklearn.feature_selection import chi2\\n# load data\\n# feature extraction\\nselection = SelectKBest(score_func=chi2, k=32)\\nfit = selection.fit(train, labels)\\n# summarize scores\\nnp.set_printoptions(precision=3)\\nfeatures = fit.transform(train)\\ntrain = features'"
      ]
     },
     "execution_count": 4,
     "metadata": {},
     "output_type": "execute_result"
    }
   ],
   "source": [
    "'''from sklearn.feature_selection import SelectKBest\n",
    "from sklearn.feature_selection import chi2\n",
    "# load data\n",
    "# feature extraction\n",
    "selection = SelectKBest(score_func=chi2, k=32)\n",
    "fit = selection.fit(train, labels)\n",
    "# summarize scores\n",
    "np.set_printoptions(precision=3)\n",
    "features = fit.transform(train)\n",
    "train = features'''"
   ]
  },
  {
   "cell_type": "code",
   "execution_count": 85,
   "metadata": {},
   "outputs": [
    {
     "data": {
      "text/plain": [
       "(120, 595)"
      ]
     },
     "execution_count": 85,
     "metadata": {},
     "output_type": "execute_result"
    }
   ],
   "source": [
    "train.shape"
   ]
  },
  {
   "cell_type": "code",
   "execution_count": 91,
   "metadata": {},
   "outputs": [],
   "source": [
    "scaler = StandardScaler()\n",
    "scaler.fit(train)\n",
    "X_sc_train = scaler.transform(train)\n",
    "X_sc_test = scaler.transform(test)"
   ]
  },
  {
   "cell_type": "code",
   "execution_count": null,
   "metadata": {},
   "outputs": [],
   "source": []
  },
  {
   "cell_type": "code",
   "execution_count": 70,
   "metadata": {},
   "outputs": [
    {
     "name": "stdout",
     "output_type": "stream",
     "text": [
      "(120, 595)\n",
      "(120, 64)\n"
     ]
    }
   ],
   "source": [
    "NCOMPONENTS = 64\n",
    "\n",
    "pca = PCA(n_components=NCOMPONENTS)\n",
    "X_pca_train = pca.fit_transform(X_sc_train)\n",
    "X_pca_test = pca.transform(X_sc_test)\n",
    "pca_std = np.std(X_pca_train)\n",
    "\n",
    "print(X_sc_train.shape)\n",
    "print(X_pca_train.shape)"
   ]
  },
  {
   "cell_type": "code",
   "execution_count": 92,
   "metadata": {},
   "outputs": [
    {
     "data": {
      "text/plain": [
       "(80, 594)"
      ]
     },
     "execution_count": 92,
     "metadata": {},
     "output_type": "execute_result"
    }
   ],
   "source": [
    "X_sc_train = np.concatenate((X_sc_train[:,:3], X_sc_train[:,4:]), axis=1)\n",
    "X_sc_test = np.concatenate((X_sc_test[:,:3], X_sc_test[:,4:]), axis=1)\n",
    "X_sc_train.shape\n",
    "X_sc_test.shape"
   ]
  },
  {
   "cell_type": "code",
   "execution_count": 103,
   "metadata": {},
   "outputs": [
    {
     "name": "stdout",
     "output_type": "stream",
     "text": [
      "Train on 102 samples, validate on 18 samples\n",
      "Epoch 1/15\n",
      "102/102 [==============================] - 3s 31ms/step - loss: 3.8028 - categorical_accuracy: 0.5000 - val_loss: 0.7061 - val_categorical_accuracy: 0.5000\n",
      "Epoch 2/15\n",
      "102/102 [==============================] - 0s 205us/step - loss: 3.6467 - categorical_accuracy: 0.4510 - val_loss: 0.7418 - val_categorical_accuracy: 0.4444\n",
      "Epoch 3/15\n",
      "102/102 [==============================] - 0s 263us/step - loss: 3.0648 - categorical_accuracy: 0.4608 - val_loss: 0.7625 - val_categorical_accuracy: 0.4444\n",
      "Epoch 4/15\n",
      "102/102 [==============================] - 0s 226us/step - loss: 3.1778 - categorical_accuracy: 0.4804 - val_loss: 0.7201 - val_categorical_accuracy: 0.5556\n",
      "Epoch 5/15\n",
      "102/102 [==============================] - 0s 207us/step - loss: 2.8475 - categorical_accuracy: 0.5196 - val_loss: 0.6901 - val_categorical_accuracy: 0.6111\n",
      "Epoch 6/15\n",
      "102/102 [==============================] - 0s 221us/step - loss: 2.9583 - categorical_accuracy: 0.5490 - val_loss: 0.6664 - val_categorical_accuracy: 0.6111\n",
      "Epoch 7/15\n",
      "102/102 [==============================] - 0s 208us/step - loss: 2.6972 - categorical_accuracy: 0.5098 - val_loss: 0.6441 - val_categorical_accuracy: 0.6667\n",
      "Epoch 8/15\n",
      "102/102 [==============================] - 0s 211us/step - loss: 3.4922 - categorical_accuracy: 0.4804 - val_loss: 0.6418 - val_categorical_accuracy: 0.5556\n",
      "Epoch 9/15\n",
      "102/102 [==============================] - 0s 238us/step - loss: 2.8299 - categorical_accuracy: 0.5098 - val_loss: 0.6364 - val_categorical_accuracy: 0.5556\n",
      "Epoch 10/15\n",
      "102/102 [==============================] - 0s 224us/step - loss: 2.3405 - categorical_accuracy: 0.5784 - val_loss: 0.6394 - val_categorical_accuracy: 0.6111\n",
      "Epoch 11/15\n",
      "102/102 [==============================] - 0s 225us/step - loss: 2.0552 - categorical_accuracy: 0.6078 - val_loss: 0.6509 - val_categorical_accuracy: 0.6111\n",
      "Epoch 12/15\n",
      "102/102 [==============================] - 0s 209us/step - loss: 2.5890 - categorical_accuracy: 0.5392 - val_loss: 0.6591 - val_categorical_accuracy: 0.5556\n",
      "Epoch 13/15\n",
      "102/102 [==============================] - 0s 227us/step - loss: 2.5464 - categorical_accuracy: 0.6078 - val_loss: 0.6610 - val_categorical_accuracy: 0.6111\n",
      "Epoch 14/15\n",
      "102/102 [==============================] - 0s 235us/step - loss: 1.9178 - categorical_accuracy: 0.5980 - val_loss: 0.6664 - val_categorical_accuracy: 0.6111\n",
      "Epoch 15/15\n",
      "102/102 [==============================] - 0s 213us/step - loss: 1.8679 - categorical_accuracy: 0.6275 - val_loss: 0.6800 - val_categorical_accuracy: 0.6667\n"
     ]
    }
   ],
   "source": [
    "NCOMPONENTS = 594\n",
    "model = Sequential()\n",
    "layers = 4\n",
    "units = 256\n",
    "\n",
    "model.add(Dense(units, input_dim=NCOMPONENTS, activation='relu'))\n",
    "model.add(GaussianNoise(0.2))\n",
    "for i in range(layers):\n",
    "    model.add(Dense(np.int(units/(2*(i+1))), activation='relu'))\n",
    "    model.add(GaussianNoise(pca_std))\n",
    "    model.add(Dropout(0.1))\n",
    "model.add(Dense(2, activation='softmax'))\n",
    "\n",
    "model.compile(loss='categorical_crossentropy', optimizer='adam', metrics=['categorical_accuracy'])\n",
    "\n",
    "history = model.fit(X_sc_train, labels, epochs=15, batch_size=32, validation_split=0.15, verbose=1)\n",
    "\n"
   ]
  },
  {
   "cell_type": "code",
   "execution_count": 104,
   "metadata": {},
   "outputs": [
    {
     "data": {
      "text/plain": [
       "[<matplotlib.lines.Line2D at 0x7f0b3ad40390>]"
      ]
     },
     "execution_count": 104,
     "metadata": {},
     "output_type": "execute_result"
    },
    {
     "data": {
      "image/png": "[encoded data removed]",
      "text/plain": [
       "<Figure size 432x288 with 1 Axes>"
      ]
     },
     "metadata": {
      "needs_background": "light"
     },
     "output_type": "display_data"
    }
   ],
   "source": [
    "plt.plot(history.history['categorical_accuracy'], color='r')\n",
    "plt.plot(history.history['val_categorical_accuracy'])"
   ]
  },
  {
   "cell_type": "code",
   "execution_count": 99,
   "metadata": {},
   "outputs": [],
   "source": [
    "predictions = model.predict_classes(X_sc_test, verbose=0)"
   ]
  },
  {
   "cell_type": "code",
   "execution_count": 100,
   "metadata": {},
   "outputs": [
    {
     "data": {
      "text/plain": [
       "array([0, 0, 0, 1, 0])"
      ]
     },
     "execution_count": 100,
     "metadata": {},
     "output_type": "execute_result"
    }
   ],
   "source": [
    "predictions[:5]"
   ]
  },
  {
   "cell_type": "code",
   "execution_count": 105,
   "metadata": {},
   "outputs": [],
   "source": [
    "with open(\"submission_66.csv\", 'w') as f:\n",
    "    f.write(\"ID,Predicted\\n\")\n",
    "    for i in range(len(predictions)):\n",
    "        writestr = str(i+1) + ','+ str(predictions[i]) + '\\n'\n",
    "        f.write(writestr)\n",
    "f.close()\n",
    "            \n",
    "        "
   ]
  },
  {
   "cell_type": "code",
   "execution_count": null,
   "metadata": {},
   "outputs": [],
   "source": []
  }
 ],
 "metadata": {
  "kernelspec": {
   "display_name": "Python 3",
   "language": "python",
   "name": "python3"
  },
  "language_info": {
   "codemirror_mode": {
    "name": "ipython",
    "version": 3
   },
   "file_extension": ".py",
   "mimetype": "text/x-python",
   "name": "python",
   "nbconvert_exporter": "python",
   "pygments_lexer": "ipython3",
   "version": "3.6.7"
  }
 },
 "nbformat": 4,
 "nbformat_minor": 2
}
