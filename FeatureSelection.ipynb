{
 "cells": [
  {
   "cell_type": "code",
   "execution_count": 1,
   "metadata": {},
   "outputs": [
    {
     "name": "stderr",
     "output_type": "stream",
     "text": [
      "Using TensorFlow backend.\n"
     ]
    }
   ],
   "source": [
    "import numpy as np\n",
    "import keras\n",
    "import tensorflow as tf\n",
    "import csv\n",
    "from keras import Model, Sequential\n",
    "from keras.layers import Dense, Dropout\n",
    "from keras import regularizers\n",
    "import itertools\n",
    "from itertools import combinations\n",
    "from matplotlib import pyplot as plt\n",
    "\n",
    "def read_csv_file(filename):\n",
    "    dataset = []\n",
    "    with open(filename, \"r\") as f:\n",
    "        data = csv.reader(f, delimiter='\\n')\n",
    "        header = next(data)\n",
    "        numberColumns = len(header)\n",
    "        counter = 0\n",
    "        for row in data:\n",
    "            columns = list(row[0].split(','))\n",
    "            newcolumns = []\n",
    "            for number in columns:\n",
    "                newcolumns.append(float(number))\n",
    "\n",
    "            dataset.append(newcolumns)\n",
    "            counter += 1\n",
    "\n",
    "    dataset = np.asarray(dataset)\n",
    "    return dataset\n",
    "\n",
    "train = read_csv_file(\"train.csv\")\n",
    "labels = train[:,-1].astype(int)\n",
    "train = train[:,:-1]\n",
    "test = read_csv_file('test.csv')\n",
    "# labels = keras.utils.to_categorical(labels, 2)\n",
    "print(\"train data: \", train.shape)\n",
    "# print(\"test data: \", test.shape)\n",
    "\n"
   ]
  },
  {
   "cell_type": "code",
   "execution_count": null,
   "metadata": {},
   "outputs": [],
   "source": []
  },
  {
   "cell_type": "code",
   "execution_count": null,
   "metadata": {},
   "outputs": [],
   "source": [
    "'''from sklearn.feature_selection import SelectKBest\n",
    "from sklearn.feature_selection import chi2\n",
    "# load data\n",
    "# feature extraction\n",
    "test = SelectKBest(score_func=chi2, k=128)\n",
    "fit = test.fit(train, labels)\n",
    "# summarize scores\n",
    "np.set_printoptions(precision=3)\n",
    "features = fit.transform(train)'''"
   ]
  },
  {
   "cell_type": "code",
   "execution_count": null,
   "metadata": {},
   "outputs": [],
   "source": [
    "# train = features"
   ]
  },
  {
   "cell_type": "code",
   "execution_count": null,
   "metadata": {},
   "outputs": [],
   "source": []
  },
  {
   "cell_type": "code",
   "execution_count": null,
   "metadata": {},
   "outputs": [],
   "source": []
  },
  {
   "cell_type": "code",
   "execution_count": null,
   "metadata": {},
   "outputs": [],
   "source": []
  },
  {
   "cell_type": "code",
   "execution_count": 86,
   "metadata": {},
   "outputs": [],
   "source": [
    "model = Sequential()\n",
    "model.add(Dense(64, input_dim=128, activation='relu'))\n",
    "model.add(Dense(32, input_dim=64))\n",
    "model.add(Dropout(0,2))\n",
    "model.add(Dense(16, input_dim=32, activation='relu'))\n",
    "# model.add(Dense(16, input_dim=16, activation='relu'))\n",
    "model.add(Dense(1,input_dim=16, activation='sigmoid'))\n",
    "comp = model.compile(optimizer='rmsprop', loss='binary_crossentropy', metrics=['accuracy'])"
   ]
  },
  {
   "cell_type": "code",
   "execution_count": 87,
   "metadata": {},
   "outputs": [
    {
     "name": "stdout",
     "output_type": "stream",
     "text": [
      "Train on 96 samples, validate on 24 samples\n",
      "Epoch 1/16\n",
      "96/96 [==============================] - 6s 63ms/step - loss: 0.7015 - acc: 0.4688 - val_loss: 0.7074 - val_acc: 0.4167\n",
      "Epoch 2/16\n",
      "96/96 [==============================] - 0s 651us/step - loss: 0.6899 - acc: 0.5104 - val_loss: 0.7108 - val_acc: 0.4167\n",
      "Epoch 3/16\n",
      "96/96 [==============================] - 0s 814us/step - loss: 0.6827 - acc: 0.5208 - val_loss: 0.7160 - val_acc: 0.4167\n",
      "Epoch 4/16\n",
      "96/96 [==============================] - 0s 651us/step - loss: 0.6781 - acc: 0.5312 - val_loss: 0.7222 - val_acc: 0.4167\n",
      "Epoch 5/16\n",
      "96/96 [==============================] - 0s 1ms/step - loss: 0.6864 - acc: 0.5000 - val_loss: 0.7197 - val_acc: 0.4167\n",
      "Epoch 6/16\n",
      "96/96 [==============================] - 0s 814us/step - loss: 0.6743 - acc: 0.5312 - val_loss: 0.7128 - val_acc: 0.4583\n",
      "Epoch 7/16\n",
      "96/96 [==============================] - 0s 814us/step - loss: 0.6712 - acc: 0.5521 - val_loss: 0.7154 - val_acc: 0.5000\n",
      "Epoch 8/16\n",
      "96/96 [==============================] - 0s 1ms/step - loss: 0.6637 - acc: 0.5938 - val_loss: 0.7078 - val_acc: 0.5833\n",
      "Epoch 9/16\n",
      "96/96 [==============================] - 0s 1ms/step - loss: 0.6677 - acc: 0.5833 - val_loss: 0.7153 - val_acc: 0.5417\n",
      "Epoch 10/16\n",
      "96/96 [==============================] - 0s 814us/step - loss: 0.6554 - acc: 0.5833 - val_loss: 0.7096 - val_acc: 0.4583\n",
      "Epoch 11/16\n",
      "96/96 [==============================] - 0s 651us/step - loss: 0.6558 - acc: 0.6042 - val_loss: 0.6951 - val_acc: 0.5833\n",
      "Epoch 12/16\n",
      "96/96 [==============================] - 0s 977us/step - loss: 0.6528 - acc: 0.6875 - val_loss: 0.7105 - val_acc: 0.5833\n",
      "Epoch 13/16\n",
      "96/96 [==============================] - 0s 1ms/step - loss: 0.6433 - acc: 0.6979 - val_loss: 0.7349 - val_acc: 0.4583\n",
      "Epoch 14/16\n",
      "96/96 [==============================] - 0s 651us/step - loss: 0.6371 - acc: 0.6146 - val_loss: 0.7083 - val_acc: 0.5833\n",
      "Epoch 15/16\n",
      "96/96 [==============================] - 0s 977us/step - loss: 0.6398 - acc: 0.6562 - val_loss: 0.7327 - val_acc: 0.5000\n",
      "Epoch 16/16\n",
      "96/96 [==============================] - 0s 1ms/step - loss: 0.6330 - acc: 0.6667 - val_loss: 0.7075 - val_acc: 0.6250\n"
     ]
    }
   ],
   "source": [
    "history = model.fit(train, labels, epochs=16, batch_size = 16, validation_split=0.2, verbose=1)"
   ]
  },
  {
   "cell_type": "code",
   "execution_count": null,
   "metadata": {},
   "outputs": [],
   "source": []
  },
  {
   "cell_type": "code",
   "execution_count": null,
   "metadata": {},
   "outputs": [],
   "source": [
    "'''plt.plot(history.history['loss'])\n",
    "plt.plot(history.history['acc'])'''"
   ]
  },
  {
   "cell_type": "code",
   "execution_count": null,
   "metadata": {},
   "outputs": [],
   "source": []
  },
  {
   "cell_type": "code",
   "execution_count": null,
   "metadata": {},
   "outputs": [],
   "source": []
  },
  {
   "cell_type": "code",
   "execution_count": 102,
   "metadata": {},
   "outputs": [
    {
     "ename": "IndexError",
     "evalue": "index 128 is out of bounds for axis 0 with size 128",
     "output_type": "error",
     "traceback": [
      "\u001b[1;31m---------------------------------------------------------------------------\u001b[0m",
      "\u001b[1;31mIndexError\u001b[0m                                Traceback (most recent call last)",
      "\u001b[1;32m<ipython-input-102-705e696ad627>\u001b[0m in \u001b[0;36m<module>\u001b[1;34m\u001b[0m\n\u001b[0;32m     17\u001b[0m \u001b[0mind\u001b[0m \u001b[1;33m=\u001b[0m \u001b[1;36m0\u001b[0m\u001b[1;33m\u001b[0m\u001b[1;33m\u001b[0m\u001b[0m\n\u001b[0;32m     18\u001b[0m \u001b[1;32mfor\u001b[0m \u001b[0mi\u001b[0m \u001b[1;32min\u001b[0m \u001b[0mrange\u001b[0m\u001b[1;33m(\u001b[0m\u001b[0mtest\u001b[0m\u001b[1;33m.\u001b[0m\u001b[0mshape\u001b[0m\u001b[1;33m[\u001b[0m\u001b[1;36m1\u001b[0m\u001b[1;33m]\u001b[0m\u001b[1;33m)\u001b[0m\u001b[1;33m:\u001b[0m\u001b[1;33m\u001b[0m\u001b[1;33m\u001b[0m\u001b[0m\n\u001b[1;32m---> 19\u001b[1;33m     \u001b[1;32mif\u001b[0m \u001b[0mselectArray\u001b[0m\u001b[1;33m[\u001b[0m\u001b[0mi\u001b[0m\u001b[1;33m]\u001b[0m\u001b[1;33m==\u001b[0m\u001b[1;32mTrue\u001b[0m\u001b[1;33m:\u001b[0m\u001b[1;33m\u001b[0m\u001b[1;33m\u001b[0m\u001b[0m\n\u001b[0m\u001b[0;32m     20\u001b[0m         \u001b[0mnewTest\u001b[0m\u001b[1;33m[\u001b[0m\u001b[1;33m:\u001b[0m\u001b[1;33m,\u001b[0m\u001b[0mind\u001b[0m\u001b[1;33m]\u001b[0m \u001b[1;33m=\u001b[0m \u001b[0mtest\u001b[0m\u001b[1;33m[\u001b[0m\u001b[1;33m:\u001b[0m\u001b[1;33m,\u001b[0m\u001b[0mi\u001b[0m\u001b[1;33m]\u001b[0m\u001b[1;33m\u001b[0m\u001b[1;33m\u001b[0m\u001b[0m\n\u001b[0;32m     21\u001b[0m         \u001b[0mind\u001b[0m \u001b[1;33m+=\u001b[0m \u001b[1;36m1\u001b[0m\u001b[1;33m\u001b[0m\u001b[1;33m\u001b[0m\u001b[0m\n",
      "\u001b[1;31mIndexError\u001b[0m: index 128 is out of bounds for axis 0 with size 128"
     ]
    }
   ],
   "source": [
    "from sklearn.feature_selection import SelectKBest\n",
    "from sklearn.feature_selection import chi2\n",
    "# load data\n",
    "# feature extraction\n",
    "try1 = SelectKBest(score_func=chi2, k=10)\n",
    "fit1 = try1.fit(train, labels)\n",
    "# summarize scores\n",
    "# np.set_printoptions(precision=3)\n",
    "features = fit1.transform(train)\n",
    "\n",
    "selectArray = fit1.get_support()\n",
    "train=features\n",
    "\n",
    "newTest = np.zeros([80,128], dtype='float64')\n",
    "newTest.shape\n",
    "\n",
    "ind = 0\n",
    "for i in range(test.shape[1]):\n",
    "    if selectArray[i]==True:\n",
    "        newTest[:,ind] = test[:,i]\n",
    "        ind += 1\n",
    "        "
   ]
  },
  {
   "cell_type": "code",
   "execution_count": null,
   "metadata": {},
   "outputs": [],
   "source": []
  },
  {
   "cell_type": "code",
   "execution_count": 101,
   "metadata": {},
   "outputs": [],
   "source": [
    "with open(\"submission3.csv\", 'w') as f:\n",
    "    f.write(\"ID,Predicted\\n\")\n",
    "    for i in range(len(newTest)):\n",
    "        tstfile = newTest[i]\n",
    "        tstfile = np.reshape(tstfile, (1,128))\n",
    "        prediction = model.predict(tstfile)\n",
    "        if prediction[0][0] >= 0.5:\n",
    "            writestr = str(i+1) + ','+ str(1) + '\\n'\n",
    "            f.write(writestr)\n",
    "    \n",
    "        elif prediction[0][0] < 0.5:\n",
    "            writestr = str(i+1) + ','+ str(0) + '\\n'\n",
    "            f.write(writestr)\n",
    "f.close()\n",
    "            \n",
    "        "
   ]
  },
  {
   "cell_type": "code",
   "execution_count": 98,
   "metadata": {},
   "outputs": [
    {
     "data": {
      "text/plain": [
       "False"
      ]
     },
     "execution_count": 98,
     "metadata": {},
     "output_type": "execute_result"
    }
   ],
   "source": [
    "0.5000 > 0.5"
   ]
  },
  {
   "cell_type": "code",
   "execution_count": 94,
   "metadata": {},
   "outputs": [],
   "source": [
    "tstfile = newTest[79]\n",
    "tstfile = np.reshape(tstfile, (1,128))\n",
    "prediction = model.predict(tstfile)"
   ]
  },
  {
   "cell_type": "code",
   "execution_count": 95,
   "metadata": {},
   "outputs": [
    {
     "data": {
      "text/plain": [
       "array([[0.44993007]], dtype=float32)"
      ]
     },
     "execution_count": 95,
     "metadata": {},
     "output_type": "execute_result"
    }
   ],
   "source": [
    "prediction"
   ]
  },
  {
   "cell_type": "code",
   "execution_count": null,
   "metadata": {},
   "outputs": [],
   "source": []
  }
 ],
 "metadata": {
  "kernelspec": {
   "display_name": "Python 3",
   "language": "python",
   "name": "python3"
  },
  "language_info": {
   "codemirror_mode": {
    "name": "ipython",
    "version": 3
   },
   "file_extension": ".py",
   "mimetype": "text/x-python",
   "name": "python",
   "nbconvert_exporter": "python",
   "pygments_lexer": "ipython3",
   "version": "3.7.1"
  }
 },
 "nbformat": 4,
 "nbformat_minor": 2
}
