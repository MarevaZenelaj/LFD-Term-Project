{
 "cells": [
  {
   "cell_type": "code",
   "execution_count": 9,
   "metadata": {},
   "outputs": [],
   "source": [
    "import numpy as np\n",
    "import keras\n",
    "import tensorflow as tf\n",
    "import csv\n",
    "from keras import Model, Sequential\n",
    "from keras.layers import Dense, Dropout\n",
    "from keras import regularizers\n",
    "import itertools\n",
    "from itertools import combinations"
   ]
  },
  {
   "cell_type": "code",
   "execution_count": 10,
   "metadata": {},
   "outputs": [
    {
     "name": "stdout",
     "output_type": "stream",
     "text": [
      "train data:  (120, 595)\n"
     ]
    }
   ],
   "source": [
    "def read_csv_file(filename):\n",
    "    dataset = []\n",
    "    with open(filename, \"r\") as f:\n",
    "        data = csv.reader(f, delimiter='\\n')\n",
    "        header = next(data)\n",
    "        numberColumns = len(header)\n",
    "        counter = 0\n",
    "        for row in data:\n",
    "            columns = list(row[0].split(','))\n",
    "            newcolumns = []\n",
    "            for number in columns:\n",
    "                newcolumns.append(float(number))\n",
    "\n",
    "            dataset.append(newcolumns)\n",
    "            counter += 1\n",
    "\n",
    "    dataset = np.asarray(dataset)\n",
    "    return dataset\n",
    "\n",
    "train = read_csv_file(\"train.csv\")\n",
    "labels = train[:,-1].astype(int)\n",
    "train = train[:,:-1]\n",
    "test = read_csv_file('test.csv')\n",
    "labels = keras.utils.to_categorical(labels, 2)\n",
    "print(\"train data: \", train.shape)\n",
    "# print(\"test data: \", test.shape)"
   ]
  },
  {
   "cell_type": "code",
   "execution_count": 14,
   "metadata": {},
   "outputs": [],
   "source": [
    "model = Sequential()\n",
    "model.add(Dense(128,input_dim=595, activation='relu'))\n",
    "model.add(Dense(64, input_dim=128, activation='relu'))\n",
    "model.add(Dense(16, input_dim=64, activation='relu', kernel_regularizer=regularizers.l2(0.01),\n",
    "                activity_regularizer=regularizers.l1(0.01)))\n",
    "model.add(Dropout(0,3))\n",
    "model.add(Dense(2,input_dim=16, activation='softmax'))\n",
    "comp = model.compile(optimizer='adam', loss='mse', metrics=['acc'])"
   ]
  },
  {
   "cell_type": "code",
   "execution_count": 20,
   "metadata": {},
   "outputs": [],
   "source": [
    "list_of_features = np.arange(0,595)\n",
    "\n",
    "def subsets(iterable):\n",
    "    list_ = []\n",
    "    for n in range(len(iterable)):\n",
    "        newlist = list(combinations(iterable, n + 1))\n",
    "        list_.append(newlist)\n",
    "    return list_"
   ]
  },
  {
   "cell_type": "code",
   "execution_count": null,
   "metadata": {},
   "outputs": [],
   "source": [
    "feature_combinationssubsets(list_of_features)"
   ]
  },
  {
   "cell_type": "code",
   "execution_count": 8,
   "metadata": {},
   "outputs": [
    {
     "ename": "TypeError",
     "evalue": "'int' object is not iterable",
     "output_type": "error",
     "traceback": [
      "\u001b[1;31m---------------------------------------------------------------------------\u001b[0m",
      "\u001b[1;31mTypeError\u001b[0m                                 Traceback (most recent call last)",
      "\u001b[1;32m<ipython-input-8-eedf5b74b8f6>\u001b[0m in \u001b[0;36m<module>\u001b[1;34m\u001b[0m\n\u001b[1;32m----> 1\u001b[1;33m \u001b[0mprint\u001b[0m\u001b[1;33m(\u001b[0m\u001b[0mlist\u001b[0m\u001b[1;33m(\u001b[0m\u001b[0mitertools\u001b[0m\u001b[1;33m.\u001b[0m\u001b[0mpermutations\u001b[0m\u001b[1;33m(\u001b[0m\u001b[1;36m1\u001b[0m\u001b[1;33m)\u001b[0m\u001b[1;33m)\u001b[0m\u001b[1;33m)\u001b[0m\u001b[1;33m\u001b[0m\u001b[1;33m\u001b[0m\u001b[0m\n\u001b[0m",
      "\u001b[1;31mTypeError\u001b[0m: 'int' object is not iterable"
     ]
    }
   ],
   "source": [
    "print(list(itertools.permutations(1)))"
   ]
  },
  {
   "cell_type": "code",
   "execution_count": null,
   "metadata": {},
   "outputs": [],
   "source": []
  },
  {
   "cell_type": "code",
   "execution_count": null,
   "metadata": {},
   "outputs": [],
   "source": [
    "history = model.fit(train, labels, epochs=15, batch_size = 16, validation_split=0.2, verbose=0)\n",
    "model.save('model.h5')"
   ]
  },
  {
   "cell_type": "code",
   "execution_count": 18,
   "metadata": {},
   "outputs": [
    {
     "name": "stdout",
     "output_type": "stream",
     "text": [
      "0.5208333333333334\n"
     ]
    }
   ],
   "source": [
    "current_accuracy = history.history['acc'][-1]\n",
    "all_accuracies = []\n",
    "all_accuracies.appen(current_accuracy)\n",
    "all_permutations = []\n",
    "current_permutation = permutation(d)\n",
    "all_permutations.append(current_permutation)"
   ]
  },
  {
   "cell_type": "code",
   "execution_count": 50,
   "metadata": {},
   "outputs": [],
   "source": [
    "with open(\"submission.csv\", 'w') as f:\n",
    "    f.write(\"ID,Predicted\\n\")\n",
    "    for i in range(len(test)):\n",
    "        tstfile = test[i]\n",
    "        tstfile = np.reshape(tstfile, (1,595))\n",
    "        prediction = model.predict(tstfile)\n",
    "        if prediction[0][0] > prediction[0][1]:\n",
    "            writestr = str(i+1) + ','+ str(0) + '\\n'\n",
    "            f.write(writestr)\n",
    "    \n",
    "        elif prediction[0][0] < prediction[0][1]:\n",
    "            writestr = str(i+1) + ','+ str(1) + '\\n'\n",
    "            f.write(writestr)\n",
    "f.close()\n",
    "            \n",
    "        "
   ]
  },
  {
   "cell_type": "code",
   "execution_count": null,
   "metadata": {},
   "outputs": [],
   "source": []
  }
 ],
 "metadata": {
  "kernelspec": {
   "display_name": "Python 3",
   "language": "python",
   "name": "python3"
  },
  "language_info": {
   "codemirror_mode": {
    "name": "ipython",
    "version": 3
   },
   "file_extension": ".py",
   "mimetype": "text/x-python",
   "name": "python",
   "nbconvert_exporter": "python",
   "pygments_lexer": "ipython3",
   "version": "3.7.1"
  }
 },
 "nbformat": 4,
 "nbformat_minor": 2
}
