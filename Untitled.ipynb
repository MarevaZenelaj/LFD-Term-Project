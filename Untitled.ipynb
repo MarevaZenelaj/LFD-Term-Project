{
 "cells": [
  {
   "cell_type": "code",
   "execution_count": 43,
   "metadata": {},
   "outputs": [
    {
     "name": "stdout",
     "output_type": "stream",
     "text": [
      "train data:  (120, 595)\n"
     ]
    }
   ],
   "source": [
    "import numpy as np\n",
    "import keras\n",
    "import tensorflow as tf\n",
    "import csv\n",
    "from keras import Model, Sequential\n",
    "from keras.layers import Dense, Dropout\n",
    "from keras import regularizers\n",
    "import itertools\n",
    "from itertools import combinations\n",
    "from matplotlib import pyplot as plt\n",
    "\n",
    "def read_csv_file(filename):\n",
    "    dataset = []\n",
    "    with open(filename, \"r\") as f:\n",
    "        data = csv.reader(f, delimiter='\\n')\n",
    "        header = next(data)\n",
    "        numberColumns = len(header)\n",
    "        counter = 0\n",
    "        for row in data:\n",
    "            columns = list(row[0].split(','))\n",
    "            newcolumns = []\n",
    "            for number in columns:\n",
    "                newcolumns.append(float(number))\n",
    "\n",
    "            dataset.append(newcolumns)\n",
    "            counter += 1\n",
    "\n",
    "    dataset = np.asarray(dataset)\n",
    "    return dataset\n",
    "\n",
    "train = read_csv_file(\"train.csv\")\n",
    "labels = train[:,-1].astype(int)\n",
    "train = train[:,:-1]\n",
    "test = read_csv_file('test.csv')\n",
    "# labels = keras.utils.to_categorical(labels, 2)\n",
    "print(\"train data: \", train.shape)\n",
    "# print(\"test data: \", test.shape)\n",
    "\n"
   ]
  },
  {
   "cell_type": "code",
   "execution_count": 53,
   "metadata": {},
   "outputs": [],
   "source": [
    "train = read_csv_file(\"train.csv\")\n",
    "labels = train[:,-1].astype(int)\n",
    "train = train[:,:-1]\n",
    "test = read_csv_file('test.csv')"
   ]
  },
  {
   "cell_type": "code",
   "execution_count": null,
   "metadata": {},
   "outputs": [],
   "source": []
  },
  {
   "cell_type": "code",
   "execution_count": 54,
   "metadata": {},
   "outputs": [],
   "source": [
    "from sklearn.feature_selection import SelectKBest\n",
    "from sklearn.feature_selection import chi2\n",
    "# load data\n",
    "# feature extraction\n",
    "try1 = SelectKBest(score_func=chi2, k=50)\n",
    "fit1 = try1.fit(train, labels)\n",
    "# summarize scores\n",
    "# np.set_printoptions(precision=3)\n",
    "features = fit1.transform(train)\n",
    "\n",
    "selectArray = fit1.get_support()\n",
    "train=features\n",
    "\n",
    "newTest = np.zeros([80,50], dtype='float64')\n",
    "newTest.shape\n",
    "\n",
    "ind = 0\n",
    "for i in range(test.shape[1]):\n",
    "    if selectArray[i]==True:\n",
    "        newTest[:,ind] = test[:,i]\n",
    "        ind += 1\n",
    "        "
   ]
  },
  {
   "cell_type": "code",
   "execution_count": null,
   "metadata": {},
   "outputs": [],
   "source": []
  },
  {
   "cell_type": "code",
   "execution_count": null,
   "metadata": {},
   "outputs": [],
   "source": []
  },
  {
   "cell_type": "code",
   "execution_count": 55,
   "metadata": {},
   "outputs": [],
   "source": [
    "model = Sequential()\n",
    "# model.add(Dense(128, input_dim=256, activation='relu'))\n",
    "# model.add(Dense(64, input_dim=128, activation='relu'))\n",
    "# model.add(Dense(32, input_dim=64, activation='relu'))\n",
    "# model.add(Dense(16, input_dim=32, activation='relu'))\n",
    "model.add(Dense(32, input_dim=50, activation='relu'))\n",
    "model.add(Dropout(0.15))\n",
    "\n",
    "model.add(Dense(16, input_dim=32, activation='relu'))\n",
    "model.add(Dense(8, input_dim=16, activation='relu'))\n",
    "model.add(Dense(4, input_dim=8, activation='relu'))\n",
    "# model.add(Dense(16, input_dim=16, activation='relu'))\n",
    "model.add(Dense(1,input_dim=4, activation='sigmoid'))\n",
    "comp = model.compile(optimizer='rmsprop', loss='binary_crossentropy', metrics=['accuracy'])"
   ]
  },
  {
   "cell_type": "code",
   "execution_count": 56,
   "metadata": {},
   "outputs": [
    {
     "name": "stdout",
     "output_type": "stream",
     "text": [
      "Train on 96 samples, validate on 24 samples\n",
      "Epoch 1/30\n",
      "96/96 [==============================] - 6s 58ms/step - loss: 0.6947 - acc: 0.4062 - val_loss: 0.6955 - val_acc: 0.4167\n",
      "Epoch 2/30\n",
      "96/96 [==============================] - 0s 651us/step - loss: 0.6923 - acc: 0.4896 - val_loss: 0.6891 - val_acc: 0.4167\n",
      "Epoch 3/30\n",
      "96/96 [==============================] - 0s 814us/step - loss: 0.6915 - acc: 0.5104 - val_loss: 0.6843 - val_acc: 0.4167\n",
      "Epoch 4/30\n",
      "96/96 [==============================] - 0s 651us/step - loss: 0.6904 - acc: 0.5208 - val_loss: 0.6843 - val_acc: 0.4167\n",
      "Epoch 5/30\n",
      "96/96 [==============================] - 0s 814us/step - loss: 0.6928 - acc: 0.5208 - val_loss: 0.6838 - val_acc: 0.4167\n",
      "Epoch 6/30\n",
      "96/96 [==============================] - 0s 814us/step - loss: 0.6888 - acc: 0.5208 - val_loss: 0.6821 - val_acc: 0.4167\n",
      "Epoch 7/30\n",
      "96/96 [==============================] - 0s 651us/step - loss: 0.6936 - acc: 0.5208 - val_loss: 0.6814 - val_acc: 0.4167\n",
      "Epoch 8/30\n",
      "96/96 [==============================] - 0s 814us/step - loss: 0.6877 - acc: 0.5208 - val_loss: 0.6821 - val_acc: 0.4167\n",
      "Epoch 9/30\n",
      "96/96 [==============================] - 0s 651us/step - loss: 0.6867 - acc: 0.5000 - val_loss: 0.6791 - val_acc: 0.4167\n",
      "Epoch 10/30\n",
      "96/96 [==============================] - 0s 814us/step - loss: 0.6891 - acc: 0.5000 - val_loss: 0.6782 - val_acc: 0.4167\n",
      "Epoch 11/30\n",
      "96/96 [==============================] - 0s 651us/step - loss: 0.6832 - acc: 0.5312 - val_loss: 0.6761 - val_acc: 0.4167\n",
      "Epoch 12/30\n",
      "96/96 [==============================] - 0s 814us/step - loss: 0.6874 - acc: 0.5312 - val_loss: 0.6742 - val_acc: 0.5000\n",
      "Epoch 13/30\n",
      "96/96 [==============================] - 0s 977us/step - loss: 0.6887 - acc: 0.5625 - val_loss: 0.6741 - val_acc: 0.4167\n",
      "Epoch 14/30\n",
      "96/96 [==============================] - 0s 651us/step - loss: 0.6816 - acc: 0.5208 - val_loss: 0.6744 - val_acc: 0.4167\n",
      "Epoch 15/30\n",
      "96/96 [==============================] - 0s 1ms/step - loss: 0.6849 - acc: 0.5312 - val_loss: 0.6747 - val_acc: 0.4167\n",
      "Epoch 16/30\n",
      "96/96 [==============================] - 0s 814us/step - loss: 0.6876 - acc: 0.5104 - val_loss: 0.6721 - val_acc: 0.4167\n",
      "Epoch 17/30\n",
      "96/96 [==============================] - ETA: 0s - loss: 0.6862 - acc: 0.437 - 0s 977us/step - loss: 0.6820 - acc: 0.5104 - val_loss: 0.6708 - val_acc: 0.4583\n",
      "Epoch 18/30\n",
      "96/96 [==============================] - 0s 1ms/step - loss: 0.6744 - acc: 0.5521 - val_loss: 0.6710 - val_acc: 0.4167\n",
      "Epoch 19/30\n",
      "96/96 [==============================] - 0s 814us/step - loss: 0.6883 - acc: 0.5000 - val_loss: 0.6703 - val_acc: 0.5417\n",
      "Epoch 20/30\n",
      "96/96 [==============================] - 0s 814us/step - loss: 0.6849 - acc: 0.5312 - val_loss: 0.6696 - val_acc: 0.5833\n",
      "Epoch 21/30\n",
      "96/96 [==============================] - 0s 977us/step - loss: 0.6798 - acc: 0.5625 - val_loss: 0.6679 - val_acc: 0.6250\n",
      "Epoch 22/30\n",
      "96/96 [==============================] - 0s 651us/step - loss: 0.6823 - acc: 0.5625 - val_loss: 0.6680 - val_acc: 0.4583\n",
      "Epoch 23/30\n",
      "96/96 [==============================] - 0s 977us/step - loss: 0.6784 - acc: 0.5729 - val_loss: 0.6693 - val_acc: 0.4167\n",
      "Epoch 24/30\n",
      "96/96 [==============================] - 0s 1ms/step - loss: 0.6752 - acc: 0.5417 - val_loss: 0.6669 - val_acc: 0.5417\n",
      "Epoch 25/30\n",
      "96/96 [==============================] - 0s 1ms/step - loss: 0.6817 - acc: 0.5521 - val_loss: 0.6650 - val_acc: 0.5833\n",
      "Epoch 26/30\n",
      "96/96 [==============================] - 0s 814us/step - loss: 0.6769 - acc: 0.5729 - val_loss: 0.6659 - val_acc: 0.5000\n",
      "Epoch 27/30\n",
      "96/96 [==============================] - 0s 814us/step - loss: 0.6830 - acc: 0.5625 - val_loss: 0.6644 - val_acc: 0.6250\n",
      "Epoch 28/30\n",
      "96/96 [==============================] - 0s 651us/step - loss: 0.6782 - acc: 0.5417 - val_loss: 0.6620 - val_acc: 0.6250\n",
      "Epoch 29/30\n",
      "96/96 [==============================] - 0s 977us/step - loss: 0.6732 - acc: 0.5729 - val_loss: 0.6580 - val_acc: 0.6667\n",
      "Epoch 30/30\n",
      "96/96 [==============================] - 0s 651us/step - loss: 0.6749 - acc: 0.6042 - val_loss: 0.6531 - val_acc: 0.7083\n"
     ]
    }
   ],
   "source": [
    "history = model.fit(train, labels, epochs=30, batch_size = 16, validation_split=0.2, verbose=1)"
   ]
  },
  {
   "cell_type": "code",
   "execution_count": 59,
   "metadata": {},
   "outputs": [
    {
     "data": {
      "text/plain": [
       "[<matplotlib.lines.Line2D at 0x2c67c3f10f0>]"
      ]
     },
     "execution_count": 59,
     "metadata": {},
     "output_type": "execute_result"
    },
    {
     "data": {
      "image/png": "[encoded data removed]",
      "text/plain": [
       "<Figure size 432x288 with 1 Axes>"
      ]
     },
     "metadata": {
      "needs_background": "light"
     },
     "output_type": "display_data"
    }
   ],
   "source": [
    "plt.plot(history.history['acc'])\n",
    "# plt.plot(history.history['val_acc'])"
   ]
  },
  {
   "cell_type": "code",
   "execution_count": 60,
   "metadata": {},
   "outputs": [],
   "source": [
    "with open(\"submission4.csv\", 'w') as f:\n",
    "    f.write(\"ID,Predicted\\n\")\n",
    "    for i in range(len(newTest)):\n",
    "        tstfile = newTest[i]\n",
    "        tstfile = np.reshape(tstfile, (1,50))\n",
    "        prediction = model.predict(tstfile)\n",
    "        if prediction[0][0] >= 0.5:\n",
    "            writestr = str(i+1) + ','+ str(1) + '\\n'\n",
    "            f.write(writestr)\n",
    "    \n",
    "        elif prediction[0][0] < 0.5:\n",
    "            writestr = str(i+1) + ','+ str(0) + '\\n'\n",
    "            f.write(writestr)\n",
    "f.close()\n",
    "            \n",
    "        "
   ]
  },
  {
   "cell_type": "code",
   "execution_count": null,
   "metadata": {},
   "outputs": [],
   "source": []
  }
 ],
 "metadata": {
  "kernelspec": {
   "display_name": "Python 3",
   "language": "python",
   "name": "python3"
  },
  "language_info": {
   "codemirror_mode": {
    "name": "ipython",
    "version": 3
   },
   "file_extension": ".py",
   "mimetype": "text/x-python",
   "name": "python",
   "nbconvert_exporter": "python",
   "pygments_lexer": "ipython3",
   "version": "3.7.1"
  }
 },
 "nbformat": 4,
 "nbformat_minor": 2
}
